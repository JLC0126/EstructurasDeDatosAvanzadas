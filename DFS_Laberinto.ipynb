{
 "cells": [
  {
   "cell_type": "code",
   "execution_count": 17,
   "id": "c5a84dfd",
   "metadata": {},
   "outputs": [],
   "source": [
    "def DFS(G,v1,v2,visitado=None):\n",
    "    if visitado is None:\n",
    "        visitado = set()\n",
    "    visitado.add(v1)\n",
    "    \n",
    "    if v1 == v2:\n",
    "        return True\n",
    "    for vecino in G[v1]:\n",
    "        if vecino not in visitado:\n",
    "            if DFS(G,vecino,v2,visitado):\n",
    "                return True\n",
    "    return False"
   ]
  },
  {
   "cell_type": "code",
   "execution_count": 18,
   "id": "f9221ddc",
   "metadata": {},
   "outputs": [],
   "source": [
    "G={\n",
    "    'A':{'B','C'},\n",
    "    'B':{'A','D','E'},\n",
    "    'C':{'A','F'},\n",
    "    'D':{'B'},\n",
    "    'E':{'B','F'},\n",
    "    'F':{'C','E'},\n",
    "}"
   ]
  },
  {
   "cell_type": "code",
   "execution_count": 24,
   "id": "ffc0e35f",
   "metadata": {},
   "outputs": [],
   "source": [
    "v1 = 'A'\n",
    "v2 = 'F'"
   ]
  },
  {
   "cell_type": "code",
   "execution_count": 25,
   "id": "21270cfc",
   "metadata": {},
   "outputs": [
    {
     "name": "stdout",
     "output_type": "stream",
     "text": [
      "Existe un camino entre A y F.\n"
     ]
    }
   ],
   "source": [
    "if DFS(G,v1,v2):\n",
    "    print(f\"Existe un camino entre {v1} y {v2}.\")\n",
    "else:\n",
    "    print(f\"No existe un camino entre {v1} y {v2}.\")"
   ]
  },
  {
   "cell_type": "code",
   "execution_count": 26,
   "id": "aef439e9",
   "metadata": {},
   "outputs": [
    {
     "name": "stdout",
     "output_type": "stream",
     "text": [
      "No existe un camino entre A y D.\n"
     ]
    }
   ],
   "source": [
    "G={\n",
    "    'A':{'C'},\n",
    "    'B':{'D'},\n",
    "    'C':{'A','F'},\n",
    "    'D':{'B'},\n",
    "    'E':{'B','F'},\n",
    "    'F':{'C'},\n",
    "}\n",
    "\n",
    "v1 = 'A'\n",
    "v2 = 'D'\n",
    "\n",
    "if DFS(G,v1,v2):\n",
    "    print(f\"Existe un camino entre {v1} y {v2}.\")\n",
    "else:\n",
    "    print(f\"No existe un camino entre {v1} y {v2}.\")"
   ]
  },
  {
   "cell_type": "code",
   "execution_count": null,
   "id": "20fb633b",
   "metadata": {},
   "outputs": [],
   "source": []
  }
 ],
 "metadata": {
  "kernelspec": {
   "display_name": "Python 3 (ipykernel)",
   "language": "python",
   "name": "python3"
  },
  "language_info": {
   "codemirror_mode": {
    "name": "ipython",
    "version": 3
   },
   "file_extension": ".py",
   "mimetype": "text/x-python",
   "name": "python",
   "nbconvert_exporter": "python",
   "pygments_lexer": "ipython3",
   "version": "3.9.16"
  }
 },
 "nbformat": 4,
 "nbformat_minor": 5
}

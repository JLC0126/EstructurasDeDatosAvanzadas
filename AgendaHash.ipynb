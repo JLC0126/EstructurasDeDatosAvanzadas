{
 "cells": [
  {
   "cell_type": "code",
   "execution_count": 1,
   "id": "e2f6774c",
   "metadata": {},
   "outputs": [],
   "source": [
    "class TablaHash:\n",
    "    def __init__(self, m):\n",
    "        self.m = m #tamanio de la tabla \n",
    "        self.tabla = [None] * self.m #inicializando tabla\n",
    "        self.p = 109345121     # un número primo grande\n",
    "\n",
    "    def funcion_hash(self, key):\n",
    "        a = 340     # un número arbitrario\n",
    "        b = 6000      # otro número arbitrario\n",
    "        x = key\n",
    "        indice = ((a * x + b) % self.p) % self.m\n",
    "        return indice\n",
    "\n",
    "    def agregar(self, key, value):\n",
    "        indice = self.funcion_hash(key)\n",
    "        if self.tabla[indice] is None:\n",
    "            self.tabla[indice] = [(key, value)]\n",
    "        else:\n",
    "            for i in range(len(self.tabla[indice])):\n",
    "                if self.tabla[indice][i][0] == key:\n",
    "                    self.tabla[indice][i] = (key, value)   # actualizar si ya existe la llave\n",
    "                    return\n",
    "            self.tabla[indice].append((key, value))   # si no existe, añadir al final de la lista\n",
    "\n",
    "    def buscar(self, key):\n",
    "        indice = self.funcion_hash(key)\n",
    "        if self.tabla[indice] is not None:\n",
    "            for i in range(len(self.tabla[indice])):\n",
    "                if self.tabla[indice][i][0] == key:\n",
    "                    return self.tabla[indice][i][1]\n",
    "        return None   # si no se encuentra, regresar None\n"
   ]
  },
  {
   "cell_type": "code",
   "execution_count": 2,
   "id": "47d28e9f",
   "metadata": {},
   "outputs": [
    {
     "name": "stdout",
     "output_type": "stream",
     "text": [
      "Maria\n",
      "None\n"
     ]
    }
   ],
   "source": [
    "agenda = TablaHash(100)\n",
    "\n",
    "agenda.agregar( 123456,'Juan')\n",
    "agenda.agregar(987654,'Maria')\n",
    "agenda.agregar(234567,'Pedro')\n",
    "\n",
    "print(agenda.buscar(987654))\n",
    "print(agenda.buscar(9))"
   ]
  },
  {
   "cell_type": "code",
   "execution_count": 3,
   "id": "18264714",
   "metadata": {},
   "outputs": [
    {
     "name": "stdout",
     "output_type": "stream",
     "text": [
      "Jose\n"
     ]
    }
   ],
   "source": [
    "agenda.agregar(9,'Jose')\n",
    "print(agenda.buscar(9))"
   ]
  },
  {
   "cell_type": "code",
   "execution_count": 4,
   "id": "0c865d94",
   "metadata": {},
   "outputs": [
    {
     "name": "stdout",
     "output_type": "stream",
     "text": [
      "40\n",
      "40\n",
      "97\n",
      "60\n"
     ]
    }
   ],
   "source": [
    "print(agenda.funcion_hash(123456))\n",
    "print(agenda.funcion_hash(123456))\n",
    "print(agenda.funcion_hash(987654))\n",
    "print(agenda.funcion_hash(9))"
   ]
  },
  {
   "cell_type": "code",
   "execution_count": null,
   "id": "58fb51d7",
   "metadata": {},
   "outputs": [],
   "source": []
  },
  {
   "cell_type": "code",
   "execution_count": 5,
   "id": "d6ae4f60",
   "metadata": {},
   "outputs": [
    {
     "name": "stdout",
     "output_type": "stream",
     "text": [
      "Jose\n",
      "Jose\n"
     ]
    }
   ],
   "source": [
    "agenda.agregar(9,'Luis')\n",
    "agenda.agregar(9,'Jose')\n",
    "print(agenda.buscar(9))\n",
    "print(agenda.buscar(9))"
   ]
  },
  {
   "cell_type": "markdown",
   "id": "3ba98c96",
   "metadata": {},
   "source": [
    "# Implementación 2"
   ]
  },
  {
   "cell_type": "code",
   "execution_count": 6,
   "id": "414a2c39",
   "metadata": {},
   "outputs": [],
   "source": [
    "class TablaHash:\n",
    "    def __init__(self, m):\n",
    "        self.m = m #tamanio de la tabla \n",
    "        self.tabla = [None] * self.m #inicializando tabla\n",
    "        self.p = 109345121     # un número primo grande\n",
    "\n",
    "    def funcion_hash(self, key):\n",
    "        a = 12345     # un número arbitrario\n",
    "        b = 9008      # otro número arbitrario\n",
    "        x = key\n",
    "        indice = ((a * x + b) % self.p) % self.m\n",
    "        return indice\n",
    "\n",
    "    def agregar(self, key, value):\n",
    "        indice = self.funcion_hash(key)\n",
    "        if self.tabla[indice] is None:\n",
    "            self.tabla[indice] = [(key, [value])]\n",
    "        else:\n",
    "            for i in range(len(self.tabla[indice])):\n",
    "                if self.tabla[indice][i][0] == key:\n",
    "                    self.tabla[indice][i][1].append(value)   # agregar a la lista de valores si ya existe la llave\n",
    "                    return\n",
    "            self.tabla[indice].append((key, [value]))   # si no existe, añadir al final de la lista\n",
    "\n",
    "    def buscar(self, key):\n",
    "        indice = self.funcion_hash(key)\n",
    "        if self.tabla[indice] is not None:\n",
    "            for i in range(len(self.tabla[indice])):\n",
    "                if self.tabla[indice][i][0] == key:\n",
    "                    return self.tabla[indice][i][1]\n",
    "        return []   # si no se encuentra, regresar una lista vacía"
   ]
  },
  {
   "cell_type": "code",
   "execution_count": 7,
   "id": "d25ca6bc",
   "metadata": {},
   "outputs": [
    {
     "name": "stdout",
     "output_type": "stream",
     "text": [
      "['Maria']\n",
      "[]\n"
     ]
    }
   ],
   "source": [
    "agenda = TablaHash(100)\n",
    "\n",
    "agenda.agregar( 123456,'Juan')\n",
    "agenda.agregar(987654,'Maria')\n",
    "agenda.agregar(234567,'Pedro')\n",
    "\n",
    "print(agenda.buscar(987654))\n",
    "print(agenda.buscar(9))"
   ]
  },
  {
   "cell_type": "code",
   "execution_count": 8,
   "id": "149b445e",
   "metadata": {},
   "outputs": [
    {
     "name": "stdout",
     "output_type": "stream",
     "text": [
      "['Jose']\n"
     ]
    }
   ],
   "source": [
    "agenda.agregar(9,'Jose')\n",
    "print(agenda.buscar(9))"
   ]
  },
  {
   "cell_type": "code",
   "execution_count": 9,
   "id": "6718c55b",
   "metadata": {},
   "outputs": [
    {
     "name": "stdout",
     "output_type": "stream",
     "text": [
      "55\n",
      "55\n",
      "7\n",
      "13\n"
     ]
    }
   ],
   "source": [
    "print(agenda.funcion_hash(123456))\n",
    "print(agenda.funcion_hash(123456))\n",
    "print(agenda.funcion_hash(987654))\n",
    "print(agenda.funcion_hash(9))"
   ]
  },
  {
   "cell_type": "code",
   "execution_count": 10,
   "id": "a41cd178",
   "metadata": {},
   "outputs": [
    {
     "name": "stdout",
     "output_type": "stream",
     "text": [
      "43\n",
      "88\n"
     ]
    }
   ],
   "source": [
    "#probando con numeros consecutivos\n",
    "print(agenda.funcion_hash(98765433))\n",
    "print(agenda.funcion_hash(98765534))"
   ]
  },
  {
   "cell_type": "code",
   "execution_count": 11,
   "id": "436cf8e4",
   "metadata": {},
   "outputs": [
    {
     "name": "stdout",
     "output_type": "stream",
     "text": [
      "['Jose', 'Luis', 'Carlos']\n"
     ]
    }
   ],
   "source": [
    "# Mismo numero\n",
    "agenda.agregar(9,'Luis')\n",
    "agenda.agregar(9,'Carlos')\n",
    "print(agenda.buscar(9))"
   ]
  },
  {
   "cell_type": "code",
   "execution_count": null,
   "id": "3f795a8a",
   "metadata": {},
   "outputs": [],
   "source": []
  }
 ],
 "metadata": {
  "kernelspec": {
   "display_name": "Python 3 (ipykernel)",
   "language": "python",
   "name": "python3"
  },
  "language_info": {
   "codemirror_mode": {
    "name": "ipython",
    "version": 3
   },
   "file_extension": ".py",
   "mimetype": "text/x-python",
   "name": "python",
   "nbconvert_exporter": "python",
   "pygments_lexer": "ipython3",
   "version": "3.9.16"
  }
 },
 "nbformat": 4,
 "nbformat_minor": 5
}
